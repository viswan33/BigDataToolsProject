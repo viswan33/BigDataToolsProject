{
 "cells": [
  {
   "cell_type": "markdown",
   "id": "2506cd19-cccc-4c3c-a84a-5403432b427c",
   "metadata": {},
   "source": [
    "### Step 1: Load the dataset\""
   ]
  },
  {
   "cell_type": "code",
   "execution_count": 7,
   "id": "5989efd7-5891-44a1-bbcd-3f129dcbccc6",
   "metadata": {},
   "outputs": [
    {
     "name": "stdout",
     "output_type": "stream",
     "text": [
      "Dataset loaded successfully.\n",
      "Initial shape of data: (103817, 13)\n"
     ]
    }
   ],
   "source": [
    "import pandas as pd\n",
    "from pymongo import MongoClient\n",
    "import matplotlib.pyplot as plt\n",
    "\n",
    "file_path = 'Ola_Customer_review.csv' \n",
    "data = pd.read_csv(file_path)\n",
    "\n",
    "print(\"Dataset loaded successfully.\")\n",
    "print(f\"Initial shape of data: {data.shape}\")"
   ]
  },
  {
   "cell_type": "markdown",
   "id": "90a46124-99b5-4281-800f-84f996e49040",
   "metadata": {},
   "source": [
    "### Step 2: Connect to MongoDB"
   ]
  },
  {
   "cell_type": "code",
   "execution_count": 9,
   "id": "00feeccd-2c5e-413a-9cd2-765ec5c55b30",
   "metadata": {},
   "outputs": [
    {
     "name": "stdout",
     "output_type": "stream",
     "text": [
      "Data inserted into MongoDB successfully.\n",
      "Number of rows in MongoDB: 415268\n"
     ]
    }
   ],
   "source": [
    "client = MongoClient(\"mongodb://localhost:27017/\") \n",
    "db = client[\"OlaReviews\"]\n",
    "collection = db[\"customer_reviews\"]\n",
    "\n",
    "collection.insert_many(data.to_dict(\"records\"))\n",
    "\n",
    "print(\"Data inserted into MongoDB successfully.\")\n",
    "row_count = collection.count_documents({})\n",
    "print(f\"Number of rows in MongoDB: {row_count}\")"
   ]
  },
  {
   "cell_type": "markdown",
   "id": "8cd668b6-c4ab-4ca3-b5a9-bd551eb346ba",
   "metadata": {},
   "source": [
    "### Step 3: Clean the data (Silver Layer)"
   ]
  },
  {
   "cell_type": "code",
   "execution_count": 11,
   "id": "ea45787f-62cd-4b4a-9e6b-ec404cf3a006",
   "metadata": {},
   "outputs": [
    {
     "name": "stderr",
     "output_type": "stream",
     "text": [
      "C:\\Users\\Sri\\AppData\\Local\\Temp\\ipykernel_8328\\607867043.py:3: FutureWarning: A value is trying to be set on a copy of a DataFrame or Series through chained assignment using an inplace method.\n",
      "The behavior will change in pandas 3.0. This inplace method will never work because the intermediate object on which we are setting values always behaves as a copy.\n",
      "\n",
      "For example, when doing 'df[col].method(value, inplace=True)', try using 'df.method({col: value}, inplace=True)' or df[col] = df[col].method(value) instead, to perform the operation inplace on the original object.\n",
      "\n",
      "\n",
      "  data[column].fillna(data[column].mode()[0], inplace=True)\n",
      "C:\\Users\\Sri\\AppData\\Local\\Temp\\ipykernel_8328\\607867043.py:5: FutureWarning: A value is trying to be set on a copy of a DataFrame or Series through chained assignment using an inplace method.\n",
      "The behavior will change in pandas 3.0. This inplace method will never work because the intermediate object on which we are setting values always behaves as a copy.\n",
      "\n",
      "For example, when doing 'df[col].method(value, inplace=True)', try using 'df.method({col: value}, inplace=True)' or df[col] = df[col].method(value) instead, to perform the operation inplace on the original object.\n",
      "\n",
      "\n",
      "  data[column].fillna(data[column].mean(), inplace=True)\n"
     ]
    },
    {
     "name": "stdout",
     "output_type": "stream",
     "text": [
      "Shape after cleaning: (103817, 13)\n",
      "Cleaned data inserted into MongoDB.\n"
     ]
    }
   ],
   "source": [
    "for column in data.columns:\n",
    "    if data[column].dtype == 'object':\n",
    "        data[column].fillna(data[column].mode()[0], inplace=True)\n",
    "    else:\n",
    "        data[column].fillna(data[column].mean(), inplace=True)\n",
    "\n",
    "data_cleaned = data.drop_duplicates()\n",
    "print(f\"Shape after cleaning: {data_cleaned.shape}\")\n",
    "\n",
    "collection_cleaned = db[\"customer_reviews_cleaned\"]\n",
    "collection_cleaned.insert_many(data_cleaned.to_dict(\"records\"))\n",
    "print(\"Cleaned data inserted into MongoDB.\")"
   ]
  },
  {
   "cell_type": "markdown",
   "id": "8ea0688f-09ea-4595-9946-643317ae804a",
   "metadata": {},
   "source": [
    "### Step 4: Create Aggregated Datasets (Gold Layer)"
   ]
  },
  {
   "cell_type": "code",
   "execution_count": 30,
   "id": "0a524613-e2b3-4d13-8060-56651347c16b",
   "metadata": {},
   "outputs": [
    {
     "name": "stdout",
     "output_type": "stream",
     "text": [
      "Dataset columns available for grouping: ['source', 'review_id', 'user_name', 'review_title', 'review_description', 'rating', 'thumbs_up', 'review_date', 'developer_response', 'developer_response_date', 'appVersion', 'laguage_code', 'country_code']\n",
      "Aggregated data inserted into MongoDB.\n"
     ]
    }
   ],
   "source": [
    "print(\"Dataset columns available for grouping:\", data_cleaned.columns.tolist())\n",
    "\n",
    "# Check if 'country_code' and 'rating' are available for aggregation\n",
    "if \"country_code\" in data_cleaned.columns and \"rating\" in data_cleaned.columns:\n",
    "    # Group by 'country_code' instead of 'City'\n",
    "    agg_data = data_cleaned.groupby(\"country_code\")[\"rating\"].mean().reset_index()\n",
    "    \n",
    "    # Connect to MongoDB and insert the aggregated data\n",
    "    collection_aggregated = db[\"customer_reviews_aggregated\"]\n",
    "    collection_aggregated.insert_many(agg_data.to_dict(\"records\"))\n",
    "    print(\"Aggregated data inserted into MongoDB.\")\n",
    "else:\n",
    "    print(\"Required columns for aggregation ('country_code' and 'rating') not found in dataset.\")\n"
   ]
  },
  {
   "cell_type": "code",
   "execution_count": null,
   "id": "36b81f89-9779-4239-86a0-8714d4a5a5a2",
   "metadata": {},
   "outputs": [],
   "source": []
  }
 ],
 "metadata": {
  "kernelspec": {
   "display_name": "Python [conda env:base] *",
   "language": "python",
   "name": "conda-base-py"
  },
  "language_info": {
   "codemirror_mode": {
    "name": "ipython",
    "version": 3
   },
   "file_extension": ".py",
   "mimetype": "text/x-python",
   "name": "python",
   "nbconvert_exporter": "python",
   "pygments_lexer": "ipython3",
   "version": "3.12.7"
  }
 },
 "nbformat": 4,
 "nbformat_minor": 5
}
